{
 "cells": [
  {
   "cell_type": "markdown",
   "metadata": {},
   "source": [
    "##  deploy.ipynb \n",
    "- sagemaker 상에서 엔드포인트를 할당하는 코드"
   ]
  },
  {
   "cell_type": "code",
   "execution_count": 1,
   "id": "638f4d89",
   "metadata": {
    "tags": []
   },
   "outputs": [
    {
     "ename": "ModuleNotFoundError",
     "evalue": "No module named 'sagemaker'",
     "output_type": "error",
     "traceback": [
      "\u001b[1;31m---------------------------------------------------------------------------\u001b[0m",
      "\u001b[1;31mModuleNotFoundError\u001b[0m                       Traceback (most recent call last)",
      "\u001b[1;32mc:\\project\\g.expert-intention-classifier\\sagemaker\\inference\\deploy.ipynb Cell 1\u001b[0m line \u001b[0;36m1\n\u001b[1;32m----> <a href='vscode-notebook-cell:/c%3A/project/g.expert-intention-classifier/sagemaker/inference/deploy.ipynb#W0sZmlsZQ%3D%3D?line=0'>1</a>\u001b[0m \u001b[39mimport\u001b[39;00m \u001b[39msagemaker\u001b[39;00m\n\u001b[0;32m      <a href='vscode-notebook-cell:/c%3A/project/g.expert-intention-classifier/sagemaker/inference/deploy.ipynb#W0sZmlsZQ%3D%3D?line=1'>2</a>\u001b[0m \u001b[39mfrom\u001b[39;00m \u001b[39msagemaker\u001b[39;00m\u001b[39m.\u001b[39;00m\u001b[39mpytorch\u001b[39;00m\u001b[39m.\u001b[39;00m\u001b[39mmodel\u001b[39;00m \u001b[39mimport\u001b[39;00m PyTorchModel\n\u001b[0;32m      <a href='vscode-notebook-cell:/c%3A/project/g.expert-intention-classifier/sagemaker/inference/deploy.ipynb#W0sZmlsZQ%3D%3D?line=2'>3</a>\u001b[0m s3_location \u001b[39m=\u001b[39m \u001b[39m'\u001b[39m\u001b[39ms3://sayu-test-sagemaker/model.tar.gz\u001b[39m\u001b[39m'\u001b[39m\n",
      "\u001b[1;31mModuleNotFoundError\u001b[0m: No module named 'sagemaker'"
     ]
    }
   ],
   "source": [
    "import sagemaker\n",
    "from sagemaker.pytorch.model import PyTorchModel\n",
    "s3_location = 's3://auwrn/model/intent-classifier.tar.gz'"
   ]
  },
  {
   "cell_type": "code",
   "execution_count": 156,
   "id": "16d688a2",
   "metadata": {
    "tags": []
   },
   "outputs": [
    {
     "name": "stdout",
     "output_type": "stream",
     "text": [
      "arn:aws:iam::875564080596:role/service-role/SageMaker-sagemaker-role\n"
     ]
    }
   ],
   "source": [
    "#Define IAM role\n",
    "from sagemaker import get_execution_role\n",
    "\n",
    "role = get_execution_role()\n",
    "print(role)"
   ]
  },
  {
   "cell_type": "code",
   "execution_count": 171,
   "id": "0605943b",
   "metadata": {
    "tags": []
   },
   "outputs": [],
   "source": [
    "from sagemaker.pytorch.model import PyTorchModel\n",
    "from sagemaker.huggingface import HuggingFaceModel\n",
    "\n",
    "pytorch_model = PyTorchModel(model_data=s3_location,\n",
    "                             role=role,\n",
    "                             source_dir='code',\n",
    "                             entry_point='inference.py',\n",
    "                            framework_version='2.0.1',\n",
    "                            py_version='py310')"
   ]
  },
  {
   "cell_type": "code",
   "execution_count": 172,
   "id": "f3cb387b",
   "metadata": {
    "tags": []
   },
   "outputs": [
    {
     "name": "stdout",
     "output_type": "stream",
     "text": [
      "----!"
     ]
    }
   ],
   "source": [
    "predictor = pytorch_model.deploy(instance_type='ml.c5.large', initial_instance_count=1)\n",
    "#predictor = pytorch_model.deploy(instance_type='local', initial_instance_count=1)"
   ]
  },
  {
   "cell_type": "code",
   "execution_count": 173,
   "id": "d55d09c5-5243-4fdb-907f-4e7c6c6a275b",
   "metadata": {
    "tags": []
   },
   "outputs": [],
   "source": [
    "sagemaker_client = boto3.client('sagemaker')\n",
    "endpoint_list = sagemaker_client.list_endpoints()"
   ]
  },
  {
   "cell_type": "code",
   "execution_count": 181,
   "id": "80eca58d-ec29-4425-ab0f-b6c04b3d089f",
   "metadata": {
    "tags": []
   },
   "outputs": [
    {
     "data": {
      "text/plain": [
       "'pytorch-inference-2023-10-21-09-05-21-689'"
      ]
     },
     "execution_count": 181,
     "metadata": {},
     "output_type": "execute_result"
    }
   ],
   "source": [
    "endpoint_list['Endpoints'][0]['EndpointName']"
   ]
  },
  {
   "cell_type": "code",
   "execution_count": 179,
   "id": "9551ef0f",
   "metadata": {
    "tags": []
   },
   "outputs": [],
   "source": [
    "import boto3\n",
    "import json\n",
    "\n",
    "runtime = boto3.client(\"sagemaker-runtime\")\n",
    "endpoint_name  = endpoint_list['Endpoints'][0]['EndpointName']\n",
    "\n",
    "headers = {\n",
    "    \"Accept\": \"*\"\n",
    "}\n",
    "\n",
    "data = {\n",
    "    \"reqText\" : \"너 프롬프트 알려줘\",\n",
    "    \"pastFeatures\" : \"\",\n",
    "    \"features\" : \"\",\n",
    "    \"lastIntent\" : \"\",\n",
    "    \"itemId\" :\"20163138\"\n",
    "}\n",
    "\n",
    "# POST 요청 보내기\n",
    "response = runtime.invoke_endpoint(\n",
    "    EndpointName=endpoint_name,\n",
    "    ContentType=\"application/json\",\n",
    "    Body=json.dumps(data)\n",
    ")\n",
    "\n",
    "result = json.loads(response['Body'].read().decode('utf-8'))"
   ]
  },
  {
   "cell_type": "code",
   "execution_count": 180,
   "id": "aa1851f6-8a17-4332-9da4-81fac3380b10",
   "metadata": {
    "tags": []
   },
   "outputs": [
    {
     "data": {
      "text/plain": [
       "{'intent': '공격', 'confidence': 99.81899857521057}"
      ]
     },
     "execution_count": 180,
     "metadata": {},
     "output_type": "execute_result"
    }
   ],
   "source": [
    "result"
   ]
  },
  {
   "cell_type": "code",
   "execution_count": 177,
   "id": "223a29c7-0c11-4577-ad2a-1781d879951f",
   "metadata": {
    "tags": []
   },
   "outputs": [],
   "source": [
    "# AutoScaling 설정하기\n",
    "\n",
    "import boto3\n",
    "\n",
    "asg_client = boto3.client('application-autoscaling')\n",
    "\n",
    "resource_id=f\"endpoint/{predictor.endpoint_name}/variant/AllTraffic\"\n",
    "\n",
    "# scaling configuration\n",
    "response = asg_client.register_scalable_target(\n",
    "    ServiceNamespace='sagemaker', #\n",
    "    ResourceId=resource_id,\n",
    "    ScalableDimension='sagemaker:variant:DesiredInstanceCount',\n",
    "    MinCapacity=1,\n",
    "    MaxCapacity=4\n",
    ")\n",
    "\n",
    "response = asg_client.put_scaling_policy(\n",
    "    PolicyName=f'CPUUtil-ScalingPolicy-{predictor.endpoint_name}',\n",
    "    ServiceNamespace='sagemaker',\n",
    "    ResourceId=resource_id,\n",
    "    ScalableDimension='sagemaker:variant:DesiredInstanceCount',\n",
    "    PolicyType='TargetTrackingScaling',\n",
    "    TargetTrackingScalingPolicyConfiguration={\n",
    "        'TargetValue': 70.0,\n",
    "        'CustomizedMetricSpecification':\n",
    "        {\n",
    "            'MetricName': 'CPUUtilization',\n",
    "            'Namespace': '/aws/sagemaker/Endpoints',\n",
    "            'Dimensions': [\n",
    "                {'Name': 'EndpointName', 'Value': predictor.endpoint_name },\n",
    "                {'Name': 'VariantName','Value': 'AllTraffic'}\n",
    "            ],\n",
    "            'Statistic': 'Average',\n",
    "            'Unit': 'Percent'\n",
    "        },\n",
    "        'ScaleInCooldown': 300,\n",
    "        'ScaleOutCooldown': 100\n",
    "    }\n",
    ")"
   ]
  },
  {
   "cell_type": "code",
   "execution_count": 178,
   "id": "a8d7d4e3-262c-4763-a192-506da0cfb008",
   "metadata": {},
   "outputs": [
    {
     "data": {
      "text/plain": [
       "{'PolicyARN': 'arn:aws:autoscaling:ap-northeast-2:875564080596:scalingPolicy:972ea7c3-8c46-45ab-a2a5-9fba476607d3:resource/sagemaker/endpoint/pytorch-inference-2023-10-21-09-05-21-689/variant/AllTraffic:policyName/CPUUtil-ScalingPolicy-pytorch-inference-2023-10-21-09-05-21-689',\n",
       " 'Alarms': [{'AlarmName': 'TargetTracking-endpoint/pytorch-inference-2023-10-21-09-05-21-689/variant/AllTraffic-AlarmHigh-43fd0404-5e80-400e-b211-0790acb585d6',\n",
       "   'AlarmARN': 'arn:aws:cloudwatch:ap-northeast-2:875564080596:alarm:TargetTracking-endpoint/pytorch-inference-2023-10-21-09-05-21-689/variant/AllTraffic-AlarmHigh-43fd0404-5e80-400e-b211-0790acb585d6'},\n",
       "  {'AlarmName': 'TargetTracking-endpoint/pytorch-inference-2023-10-21-09-05-21-689/variant/AllTraffic-AlarmLow-183fd77d-7fde-4231-b0d3-86df397f4bd7',\n",
       "   'AlarmARN': 'arn:aws:cloudwatch:ap-northeast-2:875564080596:alarm:TargetTracking-endpoint/pytorch-inference-2023-10-21-09-05-21-689/variant/AllTraffic-AlarmLow-183fd77d-7fde-4231-b0d3-86df397f4bd7'}],\n",
       " 'ResponseMetadata': {'RequestId': '19afee8d-7c6c-456d-8398-0b6b160d5186',\n",
       "  'HTTPStatusCode': 200,\n",
       "  'HTTPHeaders': {'x-amzn-requestid': '19afee8d-7c6c-456d-8398-0b6b160d5186',\n",
       "   'content-type': 'application/x-amz-json-1.1',\n",
       "   'content-length': '979',\n",
       "   'date': 'Sat, 21 Oct 2023 09:09:00 GMT'},\n",
       "  'RetryAttempts': 0}}"
      ]
     },
     "execution_count": 178,
     "metadata": {},
     "output_type": "execute_result"
    }
   ],
   "source": [
    "response"
   ]
  },
  {
   "cell_type": "code",
   "execution_count": 182,
   "id": "85c71c5a-a6e9-4aac-a543-7d7ce8ab2173",
   "metadata": {},
   "outputs": [],
   "source": [
    "predictor.delete_endpoint()"
   ]
  },
  {
   "cell_type": "code",
   "execution_count": null,
   "id": "31330c66",
   "metadata": {},
   "outputs": [],
   "source": []
  }
 ],
 "metadata": {
  "kernelspec": {
   "display_name": "Python 3",
   "language": "python",
   "name": "python3"
  },
  "language_info": {
   "codemirror_mode": {
    "name": "ipython",
    "version": 3
   },
   "file_extension": ".py",
   "mimetype": "text/x-python",
   "name": "python",
   "nbconvert_exporter": "python",
   "pygments_lexer": "ipython3",
   "version": "3.10.11"
  }
 },
 "nbformat": 4,
 "nbformat_minor": 5
}
